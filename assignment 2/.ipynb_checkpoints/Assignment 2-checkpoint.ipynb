{
 "cells": [
  {
   "cell_type": "markdown",
   "metadata": {},
   "source": [
    "***\n",
    "# Assignment 2\n",
    "## Kapil R Shenvi Pause\n",
    "***"
   ]
  },
  {
   "cell_type": "code",
   "execution_count": 234,
   "metadata": {},
   "outputs": [],
   "source": [
    "from dd import autoref as _bdd"
   ]
  },
  {
   "cell_type": "code",
   "execution_count": 235,
   "metadata": {},
   "outputs": [],
   "source": [
    "\n",
    "                \n",
    "def is_nbr(x,y):\n",
    "    in_var=[x[v] for v in variables]\n",
    "    out_var=[y[v] for v in variables]\n",
    "    return Trans(*in_var,*out_var)==bdd.add_expr('True')\n",
    "\n",
    "def compute_cex(fin,arr,witness):\n",
    "    if not witness:\n",
    "        return fin\n",
    "    else:\n",
    "        fin_states=list(bdd.pick_iter(fin,care_vars=variables))\n",
    "        init_in_final=False\n",
    "        for state in init:\n",
    "            if state in fin_states:\n",
    "                init_in_final=True\n",
    "                start=state\n",
    "                break\n",
    "        if not init_in_final:\n",
    "            return fin,None,'property not true'\n",
    "        else:\n",
    "            ans=[start]\n",
    "            newarr=[]\n",
    "            for b in arr:\n",
    "                states=list(bdd.pick_iter(b,care_vars=variables))\n",
    "                if start in states:\n",
    "                    break\n",
    "                else:\n",
    "                    newarr+=[b]\n",
    "            newarr=newarr[::-1]\n",
    "            for b in newarr:\n",
    "                states=list(bdd.pick_iter(b,care_vars=variables))\n",
    "                for e in states:\n",
    "                    if is_nbr(start,e):\n",
    "                        start=e\n",
    "                        ans+=[start]\n",
    "                        break\n",
    "            return fin,ans,'property is true. Witness is found'\n",
    "    \n",
    "def EX(exp):\n",
    "    variables_prime=[var+'p' for var in variables]\n",
    "    dic={v:v_prime for v,v_prime in zip(variables,variables_prime)}\n",
    "    bdd.declare(*variables_prime)\n",
    "    new_exp=bdd.let(dic,exp)     #exp(s')\n",
    "    final=bdd.add_expr(f'{new_exp} /\\ {Trans(*variables,*variables_prime)}')   #exp(s')/\\T(s,s')\n",
    "    final=bdd.exist(variables_prime,final)                                #Exists (s') (exp(s')/\\T(s,s'))\n",
    "    return final\n",
    "\n",
    "def AX(exp):\n",
    "    return Not(EX(Not(exp)))\n",
    "\n",
    "def AF(exp):\n",
    "    def tau(Z):\n",
    "        return bdd.add_expr(f'{exp} \\/ {AX(Z)}')\n",
    "    fin,ignore=LFP(tau)\n",
    "    return fin\n",
    "\n",
    "def EF(exp,witness=False):\n",
    "    def tau(Z):\n",
    "        return bdd.add_expr(f'{exp} \\/ {EX(Z)}')\n",
    "    fin,arr=LFP(tau)\n",
    "    return compute_cex(fin,arr,witness)\n",
    "\n",
    "def AG(exp,witness=False):\n",
    "    if witness:\n",
    "        fin,cex,msg=EF(Not(exp),witness)\n",
    "        fin=Not(fin)\n",
    "        states=list(bdd.pick_iter(fin,care_vars=variables))\n",
    "        for e in init:\n",
    "            if e in states:\n",
    "                return fin,None,'property verifed'\n",
    "        return fin,cex,'property is False. cex found'\n",
    "        \n",
    "    else:\n",
    "        return Not(EF(Not(exp)))\n",
    "    \n",
    "\n",
    "def EG(exp):\n",
    "    def tau(Z):\n",
    "        return bdd.add_expr(f'{exp} /\\ {EX(Z)}')\n",
    "    fin=GFP(tau)\n",
    "    return fin\n",
    "\n",
    "def AU(exp1,exp2):\n",
    "    def tau(Z):\n",
    "        return bdd.add_expr(f'{exp2} \\/ ({exp1} /\\ {AX(Z)})')\n",
    "    fin,arr=LFP(tau)\n",
    "    return fin\n",
    "\n",
    "def EU(exp1,exp2,witness=False):\n",
    "    def tau(Z):\n",
    "        return bdd.add_expr(f'{exp2} \\/ ({exp1} /\\ {EX(Z)})')\n",
    "    fin,arr=LFP(tau)\n",
    "    return compute_cex(fin,arr,witness)\n",
    "def AR(exp1,exp2,witness=False):\n",
    "    if witness:\n",
    "        fin,cex,msg=EU(Not(exp1),Not(exp2),witness)\n",
    "        fin=Not(fin)\n",
    "        states=list(bdd.pick_iter(fin,care_vars=variables))\n",
    "        for e in init:\n",
    "            if e in states:\n",
    "                return fin,None,'property verifed'\n",
    "        return fin,cex,'property is False. cex found'\n",
    "        \n",
    "    else:\n",
    "        return Not(EU(Not(exp1),Not(exp2)))\n",
    "\n",
    "\n",
    "def ER(exp1,exp2):\n",
    "    def tau(Z):\n",
    "        return bdd.add_expr(f'{exp2} /\\ ({exp1} \\/ {EX(Z)})')\n",
    "    fin=GFP(tau)\n",
    "    return fin\n",
    "\n",
    "def Implies(exp1,exp2):\n",
    "    return bdd.apply('=>',exp1,exp2)\n",
    "\n",
    "def Not(exp):\n",
    "    return bdd.apply('~',exp)\n",
    "\n",
    "def And(exp1,exp2):\n",
    "    return bdd.apply('and',exp1,exp2)\n",
    "\n",
    "def LFP(tau):\n",
    "    Q=bdd.add_expr('False')\n",
    "    Q_prime=tau(Q)\n",
    "    arr=[Q_prime]\n",
    "    while Q!=Q_prime:\n",
    "        Q=Q_prime\n",
    "        Q_prime=tau(Q_prime)\n",
    "        arr+=[Q_prime]\n",
    "    return Q,arr\n",
    "\n",
    "def GFP(tau):\n",
    "    Q=bdd.add_expr('True')\n",
    "    Q_prime=tau(Q)\n",
    "    while Q!=Q_prime:\n",
    "        Q=Q_prime\n",
    "        Q_prime=tau(Q_prime)\n",
    "    return Q\n",
    "\n",
    "def is_verified(init,fin):\n",
    "    models=list(bdd.pick_iter(fin,care_vars=variables))\n",
    "    for i in init:\n",
    "        if i in models:\n",
    "            return True\n",
    "    return False\n"
   ]
  },
  {
   "cell_type": "markdown",
   "metadata": {},
   "source": [
    "***\n",
    "# CTL Model Checking\n",
    "This model checker supports all the 10 CTL formulas. The procedure for initializing the checking is,\n",
    "- Make a bdd object by `bdd = _bdd.BDD()`\n",
    "- Define a function `Trans` which returns the encoded transition relation by `bdd.add_expr(Transition relation)`\n",
    "- Store all the variables to be used in array named `variables`\n",
    "- Declare the variables by `bdd.declare(*variables)`\n",
    "- Store the initial states in `init` in form of dictionary (`{var:True or False for var in variables}`)\n",
    "- `bdd,variables,Trans` and `init` are supposed to be global\n",
    "\n",
    "Then proceed to check the formula. Suppose the formula is something like `AG(E(p U q))`\n",
    "- first define variables `p` and `q` which store the bdd corresponding to formulas p and q\n",
    "- Then do `AG(EU(p,q))`. This will return the bdd represnting states where the formula is True. Store it in a variable , say `fin`\n",
    "- call `is_verified(init,fin)`. If it returns True, the property is verified, else not\n",
    "\n",
    "***"
   ]
  },
  {
   "attachments": {
    "oven.png": {
     "image/png": "[encoded data removed]"
    }
   },
   "cell_type": "markdown",
   "metadata": {},
   "source": [
    "# Example: Microwave\n",
    "![oven.png](attachment:oven.png)"
   ]
  },
  {
   "cell_type": "code",
   "execution_count": 236,
   "metadata": {},
   "outputs": [],
   "source": [
    "bdd=_bdd.BDD()\n",
    "variables=['start','close','heat','error']\n",
    "bdd.declare(*variables)\n",
    "def Trans(s,c,h,e,sp,cp,hp,ep):\n",
    "    return bdd.add_expr(f'(~{s} /\\ ~{c} /\\ ~{h} /\\ ~{e} /\\ ~{sp} /\\ {cp} /\\ ~{hp} /\\ ~{ep}) \\/ \\\n",
    "                         (~{s} /\\ ~{c} /\\ ~{h} /\\ ~{e} /\\ {sp} /\\ ~{cp} /\\ ~{hp} /\\ {ep}) \\/ \\\n",
    "                         (~{s} /\\ {c} /\\ ~{h} /\\ ~{e} /\\ ~{sp} /\\ ~{cp} /\\ ~{hp} /\\ ~{ep}) \\/ \\\n",
    "                         (~{s} /\\ {c} /\\ ~{h} /\\ ~{e} /\\ {sp} /\\ {cp} /\\ ~{hp} /\\ ~{ep}) \\/ \\\n",
    "                          ({s} /\\ ~{c} /\\ ~{h} /\\ {e} /\\ {sp} /\\ {cp} /\\ ~{hp} /\\ {ep}) \\/ \\\n",
    "                          ({s} /\\ {c} /\\ ~{h} /\\ {e} /\\ {sp} /\\ ~{cp} /\\ ~{hp} /\\ {ep}) \\/ \\\n",
    "                          ({s} /\\ {c} /\\ ~{h} /\\ {e} /\\ ~{sp} /\\ {cp} /\\ ~{hp} /\\ ~{ep}) \\/ \\\n",
    "                          (~{s} /\\ {c} /\\ {h} /\\ ~{e} /\\ ~{sp} /\\ {cp} /\\ {hp} /\\ ~{ep}) \\/ \\\n",
    "                          (~{s} /\\ {c} /\\ {h} /\\ ~{e} /\\ ~{sp} /\\ {cp} /\\ ~{hp} /\\ ~{ep}) \\/ \\\n",
    "                          (~{s} /\\ {c} /\\ {h} /\\ ~{e} /\\ ~{sp} /\\ ~{cp} /\\ ~{hp} /\\ ~{ep}) \\/ \\\n",
    "                          ({s} /\\ {c} /\\ ~{h} /\\ ~{e} /\\ {sp} /\\ {cp} /\\ {hp} /\\ ~{ep}) \\/ \\\n",
    "                          ({s} /\\ {c} /\\ {h} /\\ ~{e} /\\ ~{sp} /\\ {cp} /\\ {hp} /\\ ~{ep})')"
   ]
  },
  {
   "cell_type": "markdown",
   "metadata": {},
   "source": [
    "***\n",
    "## Checking property $EG(E(\\lnot Start U error))$ with 1 as sole intial state\n",
    "***"
   ]
  },
  {
   "cell_type": "code",
   "execution_count": 237,
   "metadata": {},
   "outputs": [
    {
     "name": "stdout",
     "output_type": "stream",
     "text": [
      "property is True\n"
     ]
    }
   ],
   "source": [
    "init=[{'start':False,'close':False,'heat':False,'error':False}]\n",
    "not_start=bdd.add_expr('~start')\n",
    "error=bdd.add_expr('error')\n",
    "fin=EG(EU(not_start,error))\n",
    "if is_verified(init,fin):\n",
    "    print('property is True')\n",
    "else:\n",
    "    print('property is false')"
   ]
  },
  {
   "cell_type": "markdown",
   "metadata": {},
   "source": [
    "***\n",
    "## Checking property $AF(close)$ with 1 as sole intial state\n",
    "***"
   ]
  },
  {
   "cell_type": "code",
   "execution_count": 238,
   "metadata": {},
   "outputs": [
    {
     "name": "stdout",
     "output_type": "stream",
     "text": [
      "property is True\n"
     ]
    }
   ],
   "source": [
    "init=[{'start':False,'close':False,'heat':False,'error':False}]\n",
    "close=bdd.add_expr('close')\n",
    "fin=AF(close)\n",
    "if is_verified(init,fin):\n",
    "    print('property is True')\n",
    "else:\n",
    "    print('property is false')"
   ]
  },
  {
   "cell_type": "markdown",
   "metadata": {},
   "source": [
    "***\n",
    "## Checking property $AG(\\lnot error)$ with 1 as sole intial state\n",
    "***"
   ]
  },
  {
   "cell_type": "code",
   "execution_count": 239,
   "metadata": {},
   "outputs": [
    {
     "name": "stdout",
     "output_type": "stream",
     "text": [
      "property is false\n"
     ]
    }
   ],
   "source": [
    "init=[{'start':False,'close':False,'heat':False,'error':False}]\n",
    "not_error=bdd.add_expr('~error')\n",
    "fin=AG(not_error)\n",
    "if is_verified(init,fin):\n",
    "    print('property is True')\n",
    "else:\n",
    "    print('property is false')"
   ]
  },
  {
   "cell_type": "markdown",
   "metadata": {},
   "source": [
    "***\n",
    "# Counterexample and witness generation\n",
    "Currently it supports only 4 CTL operators; AG, AR for counterexamples, and EF, EU for witness.\n",
    "\n",
    "- for finding counterexample or witness, just set the witness argument of the __last__ CTL operator to True.\n",
    "- For example, for AG(A(p U q)), do `AG(AU(p,q),witness=True)`\n",
    "- this will return bdd represnting set of states where formula is satisfied (say `fin`), counterexample or witness (say `cex`) and message (say `msg`) saying whether property is verifed or not.\n",
    "- just print out the `msg` and `cex`\n",
    "***"
   ]
  },
  {
   "cell_type": "markdown",
   "metadata": {},
   "source": [
    "***\n",
    "## finding counterexample for $AG(start \\implies AF (heat))$ with 3 as sole initial state\n",
    "***"
   ]
  },
  {
   "cell_type": "code",
   "execution_count": 240,
   "metadata": {},
   "outputs": [
    {
     "name": "stdout",
     "output_type": "stream",
     "text": [
      "property is False. cex found\n",
      "[{'start': False, 'close': True, 'heat': False, 'error': False}, {'start': False, 'close': False, 'heat': False, 'error': False}, {'close': False, 'start': True, 'heat': False, 'error': True}]\n"
     ]
    }
   ],
   "source": [
    "start=bdd.add_expr('start')\n",
    "heat=bdd.add_expr('heat')\n",
    "init=[{'start':False,'close':True,'heat':False,'error':False}]\n",
    "fin,cex,msg=AG(Implies(start,AF(heat)),witness=True)\n",
    "print(msg)\n",
    "print(cex)\n"
   ]
  },
  {
   "cell_type": "markdown",
   "metadata": {},
   "source": [
    "## Thus, we got counterexample $3 \\rightarrow 1 \\rightarrow 2$"
   ]
  },
  {
   "cell_type": "markdown",
   "metadata": {},
   "source": [
    "***\n",
    "## finding witness for $EF(heat \\land start)$ with 1 as sole initial state\n",
    "***"
   ]
  },
  {
   "cell_type": "code",
   "execution_count": 241,
   "metadata": {},
   "outputs": [
    {
     "name": "stdout",
     "output_type": "stream",
     "text": [
      "property is true. Witness is found\n",
      "[{'start': False, 'close': False, 'heat': False, 'error': False}, {'start': False, 'close': True, 'heat': False, 'error': False}, {'start': True, 'close': True, 'heat': False, 'error': False}, {'error': False, 'close': True, 'start': True, 'heat': True}]\n"
     ]
    }
   ],
   "source": [
    "heat_and_start=bdd.add_expr('heat /\\ start')\n",
    "init=[{'start':False,'close':False,'heat':False,'error':False}]\n",
    "fin,cex,message=EF(heat_and_start,witness=True)\n",
    "print(message)\n",
    "print(cex)\n"
   ]
  },
  {
   "cell_type": "markdown",
   "metadata": {},
   "source": [
    "##  Thus, we got witness $1 \\rightarrow 2 \\rightarrow 6 \\rightarrow 7$"
   ]
  },
  {
   "cell_type": "markdown",
   "metadata": {},
   "source": [
    "***\n",
    "## finding counterexample for $AG(AF(\\lnot error))$ with 1 as sole initial state\n",
    "***"
   ]
  },
  {
   "cell_type": "code",
   "execution_count": 242,
   "metadata": {},
   "outputs": [
    {
     "name": "stdout",
     "output_type": "stream",
     "text": [
      "property is False. cex found\n",
      "[{'start': False, 'close': False, 'heat': False, 'error': False}, {'close': False, 'start': True, 'heat': False, 'error': True}]\n"
     ]
    }
   ],
   "source": [
    "not_error=bdd.add_expr('~error')\n",
    "init=[{'start':False,'close':False,'heat':False,'error':False}]\n",
    "fin,cex,message=AG(AF(not_error),witness=True)\n",
    "print(message)\n",
    "print(cex)"
   ]
  },
  {
   "cell_type": "markdown",
   "metadata": {},
   "source": [
    "##  Thus, we got counterexample $1 \\rightarrow 2$"
   ]
  },
  {
   "cell_type": "markdown",
   "metadata": {},
   "source": [
    "***\n",
    "# CTL model checking with fairness\n",
    "***"
   ]
  },
  {
   "cell_type": "code",
   "execution_count": 243,
   "metadata": {},
   "outputs": [],
   "source": [
    "def EfG(exp):\n",
    "    def tau(Z):\n",
    "        v=exp\n",
    "        for Pk in P:\n",
    "            v=bdd.apply('and',v,EX(EU(exp,bdd.apply('and',Z,Pk))))\n",
    "        return v\n",
    "    fin=GFP(tau)\n",
    "    return fin\n",
    "\n",
    "def EfX(exp):\n",
    "    fair=EfG(bdd.add_expr('True'))\n",
    "    return EX(And(exp,fair))\n",
    "\n",
    "def EfU(exp1,exp2):\n",
    "    fair=EfG(bdd.add_expr('True'))\n",
    "    return EU(exp1,And(exp2,fair))\n",
    "\n",
    "def EfF(exp):\n",
    "    return EfU(bdd.add_expr('True'),exp)\n",
    "\n",
    "def EfR(exp1,exp2):\n",
    "    return Not(AfU(Not(exp1),Not(exp2)))\n",
    "\n",
    "def AfG(exp):\n",
    "    return Not(EfF(Not(exp)))\n",
    "\n",
    "def AfX(exp):\n",
    "    return Not(EfX(Not(exp)))\n",
    "\n",
    "def AfU(exp1,exp2):\n",
    "    return And(Not(EfU(Not(exp2),And(Not(exp1),Not(exp2)))),AfF(exp2))\n",
    "\n",
    "def AfF(exp):\n",
    "    return Not(EfG(Not(exp)))\n",
    "\n",
    "def AfR(exp1,exp2):\n",
    "    return Not(EfU(Not(exp1),Not(exp2)))\n",
    "\n"
   ]
  },
  {
   "cell_type": "markdown",
   "metadata": {},
   "source": [
    "***\n",
    "- Initializing is same as before. Just make an array `P` which is an array of fairness constraints represented as bdd. It is supposed to be global\n",
    "- The way of represnting formulas is also same, only thing is that we add 'f' in between two letters of operator, signifying that we are model checking wrt fairness (like `AfG` instead of `AG`)\n",
    "- It will return a bdd (say `fin`) which as before, represents states where formula is True.\n",
    "- Lastly call `is_verifed(init,fin)`\n",
    "***"
   ]
  },
  {
   "cell_type": "code",
   "execution_count": 244,
   "metadata": {},
   "outputs": [],
   "source": [
    "bdd=_bdd.BDD()\n",
    "variables=['start','close','heat','error']\n",
    "bdd.declare(*variables)\n",
    "def Trans(s,c,h,e,sp,cp,hp,ep):\n",
    "    return bdd.add_expr(f'(~{s} /\\ ~{c} /\\ ~{h} /\\ ~{e} /\\ ~{sp} /\\ {cp} /\\ ~{hp} /\\ ~{ep}) \\/ \\\n",
    "                         (~{s} /\\ ~{c} /\\ ~{h} /\\ ~{e} /\\ {sp} /\\ ~{cp} /\\ ~{hp} /\\ {ep}) \\/ \\\n",
    "                         (~{s} /\\ {c} /\\ ~{h} /\\ ~{e} /\\ ~{sp} /\\ ~{cp} /\\ ~{hp} /\\ ~{ep}) \\/ \\\n",
    "                         (~{s} /\\ {c} /\\ ~{h} /\\ ~{e} /\\ {sp} /\\ {cp} /\\ ~{hp} /\\ ~{ep}) \\/ \\\n",
    "                          ({s} /\\ ~{c} /\\ ~{h} /\\ {e} /\\ {sp} /\\ {cp} /\\ ~{hp} /\\ {ep}) \\/ \\\n",
    "                          ({s} /\\ {c} /\\ ~{h} /\\ {e} /\\ {sp} /\\ ~{cp} /\\ ~{hp} /\\ {ep}) \\/ \\\n",
    "                          ({s} /\\ {c} /\\ ~{h} /\\ {e} /\\ ~{sp} /\\ {cp} /\\ ~{hp} /\\ ~{ep}) \\/ \\\n",
    "                          (~{s} /\\ {c} /\\ {h} /\\ ~{e} /\\ ~{sp} /\\ {cp} /\\ {hp} /\\ ~{ep}) \\/ \\\n",
    "                          (~{s} /\\ {c} /\\ {h} /\\ ~{e} /\\ ~{sp} /\\ {cp} /\\ ~{hp} /\\ ~{ep}) \\/ \\\n",
    "                          (~{s} /\\ {c} /\\ {h} /\\ ~{e} /\\ ~{sp} /\\ ~{cp} /\\ ~{hp} /\\ ~{ep}) \\/ \\\n",
    "                          ({s} /\\ {c} /\\ ~{h} /\\ ~{e} /\\ {sp} /\\ {cp} /\\ {hp} /\\ ~{ep}) \\/ \\\n",
    "                          ({s} /\\ {c} /\\ {h} /\\ ~{e} /\\ ~{sp} /\\ {cp} /\\ {hp} /\\ ~{ep})')"
   ]
  },
  {
   "cell_type": "markdown",
   "metadata": {},
   "source": [
    "***\n",
    "## checking  $AG(start \\implies AF (heat))$ with sole fairness constraint $start \\land close \\land \\lnot error$ and sole initial state 1\n",
    "***"
   ]
  },
  {
   "cell_type": "code",
   "execution_count": 245,
   "metadata": {},
   "outputs": [
    {
     "name": "stdout",
     "output_type": "stream",
     "text": [
      "property is True\n"
     ]
    }
   ],
   "source": [
    "start=bdd.add_expr('start')\n",
    "heat=bdd.add_expr('heat')\n",
    "error=bdd.add_expr('error')\n",
    "init=[{'start':False,'close':False,'heat':False,'error':False}]\n",
    "P=[bdd.add_expr('start /\\ close /\\ ~error')]\n",
    "fin=AfG(Implies(start,AfF(heat)))\n",
    "if is_verified(init,fin):\n",
    "    print('property is True')\n",
    "else:\n",
    "    print('property is false')"
   ]
  },
  {
   "cell_type": "code",
   "execution_count": null,
   "metadata": {},
   "outputs": [],
   "source": []
  },
  {
   "cell_type": "code",
   "execution_count": null,
   "metadata": {},
   "outputs": [],
   "source": []
  }
 ],
 "metadata": {
  "kernelspec": {
   "display_name": "Python 3",
   "language": "python",
   "name": "python3"
  },
  "language_info": {
   "codemirror_mode": {
    "name": "ipython",
    "version": 3
   },
   "file_extension": ".py",
   "mimetype": "text/x-python",
   "name": "python",
   "nbconvert_exporter": "python",
   "pygments_lexer": "ipython3",
   "version": "3.7.3"
  }
 },
 "nbformat": 4,
 "nbformat_minor": 2
}
