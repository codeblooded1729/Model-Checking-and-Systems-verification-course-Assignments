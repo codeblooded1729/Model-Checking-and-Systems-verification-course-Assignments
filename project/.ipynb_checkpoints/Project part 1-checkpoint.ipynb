{
 "cells": [
  {
   "cell_type": "code",
   "execution_count": 1,
   "metadata": {},
   "outputs": [],
   "source": [
    "from z3 import *"
   ]
  },
  {
   "cell_type": "markdown",
   "metadata": {},
   "source": [
    "# Q1: BMC model checking of $G p$ and $F p$"
   ]
  },
  {
   "cell_type": "code",
   "execution_count": 40,
   "metadata": {},
   "outputs": [],
   "source": [
    "class s:\n",
    "    '''\n",
    "    s(n) is the state s_n.\n",
    "    variables is supposed to be global \n",
    "    '''\n",
    "    def __init__(self,n):\n",
    "        self.vars=[Bool(var+str(n)) for var in variables]\n",
    "    def get_vars(self):\n",
    "        return self.vars\n",
    "    "
   ]
  },
  {
   "cell_type": "code",
   "execution_count": 3,
   "metadata": {},
   "outputs": [],
   "source": [
    "def G(p):\n",
    "    '''\n",
    "    checks the LTL formula (A) G p\n",
    "    p is a function that takes state and gives a z3 expression saying whether property holds in that state\n",
    "    '''\n",
    "    states=[s(0)]                                                #variable states stores s_0,s_1...s_k\n",
    "    for k in range(1,maxk+1):\n",
    "        solver=Solver()\n",
    "        states+=[s(k)]\n",
    "        initial=I(states[0])                                      #s_0 is initial state\n",
    "        Trans=And([T(states[i],states[i+1]) for i in range(k)])   #/\\ T(s_i,s_i+1)\n",
    "        Notp=Or([Not(p(state)) for state in states])              #\\/ ~p(s_i)\n",
    "        solver.add(And(initial,Trans,Notp))\n",
    "        if solver.check()==sat:\n",
    "            return f'Cex found of length {k+1}. Property not True'\n",
    "    return f'No Cex found till length {maxk}'\n",
    "        \n",
    "\n",
    "def F(p):\n",
    "    states=[s(0),s(1)]                                            #variable states stores s_0,s_1...s_k\n",
    "    for k in range(2,maxk+1):\n",
    "        solver=Solver()\n",
    "        states+=[s(k)]\n",
    "        initial=I(states[0])                                      #s_0 is initial state\n",
    "        Trans=And([T(states[i],states[i+1]) for i in range(k)])   #/\\ T(s_i,s_i+1)\n",
    "        Notp=And([Not(p(state)) for state in states])             #/\\ ~p(s_i)\n",
    "        loop=Or([Equals(states[i],states[-1]) for i in range(k)]) #\\/ s_l=s_k+1\n",
    "        solver.add(And(initial,Trans,Notp,loop))\n",
    "        if solver.check()==sat:\n",
    "            return f'Cex lasso path of length {k} found. Property not True'\n",
    "    return f'No Cex found till length {maxk}'\n",
    "    \n",
    "    "
   ]
  },
  {
   "cell_type": "code",
   "execution_count": 4,
   "metadata": {},
   "outputs": [],
   "source": [
    "def I(s):\n",
    "    '''\n",
    "    Checks whether s is initial state. Gives the z3 encoding of this constraint\n",
    "    \n",
    "    '''\n",
    "    v=s.get_vars()\n",
    "    constraints=[And([v[i]==intial[i] for i in range(len(v))]) for intial in init]\n",
    "    return Or(*constraints)\n",
    "\n",
    "def T(s1,s2):\n",
    "    '''\n",
    "    Gives the z3 encoding of tranistion relation.\n",
    "    \n",
    "    '''\n",
    "    return Trans(*(s1.get_vars()),*(s2.get_vars()))\n",
    "    \n",
    "\n",
    "def Equals(s1,s2):\n",
    "    '''\n",
    "    checks whether s1 and s2 are same. Returns z3 encoding of the constraint\n",
    "    '''\n",
    "    return And([s==sp for s,sp in zip(s1.get_vars(),s2.get_vars())])\n",
    "\n"
   ]
  },
  {
   "cell_type": "markdown",
   "metadata": {},
   "source": [
    "# Initializing"
   ]
  },
  {
   "cell_type": "markdown",
   "metadata": {},
   "source": [
    "The process for initializing is very simple\n",
    "- Store all variables in an array named `variables`\n",
    "- Store the initial states as an array in he array `init`\n",
    "- Set the maximum k in `maxk`\n",
    "- Define the transition relation `Trans(s,s')` where `s` refers to state variables and `s'` refers to the state variables after transition\n"
   ]
  },
  {
   "cell_type": "code",
   "execution_count": null,
   "metadata": {},
   "outputs": [],
   "source": [
    "variables=['start','close','heat','error']                               #Boolean variables of states\n",
    "init=[[False,False,False,False]]                                         #array of initial states\n",
    "maxk=6\n",
    "def Trans(s,c,h,e,sp,cp,hp,ep):\n",
    "    '''\n",
    "    custom Transition relation. This one is for microwave.\n",
    "    \n",
    "    '''\n",
    "    return Or(And(Not(s),Not(c),Not(h),Not(e),Not(sp),cp,Not(hp),Not(ep)),\n",
    "              And(Not(s),Not(c),Not(h),Not(e),sp,Not(cp),Not(hp),ep),\n",
    "              And(Not(s),c,Not(h),Not(e),Not(sp),Not(cp),Not(hp),Not(ep)),\n",
    "              And(Not(s),c,Not(h),Not(e),sp,cp,Not(hp),Not(ep)),\n",
    "              And(s,Not(c),Not(h),e,sp,cp,Not(hp),ep),\n",
    "              And(s,c,Not(h),e,sp,Not(cp),Not(hp),ep),\n",
    "              And(s,c,Not(h),e,Not(sp),cp,Not(hp),Not(ep)),\n",
    "              And(Not(s),c,h,Not(e),Not(sp),cp,hp,Not(ep)),\n",
    "              And(Not(s),c,h,Not(e),Not(sp),cp,Not(hp),Not(ep)),\n",
    "              And(Not(s),c,h,Not(e),Not(sp),Not(cp),Not(hp),Not(ep)),\n",
    "              And(s,c,Not(h),Not(e),sp,cp,hp,Not(ep)),\n",
    "              And(s,c,h,Not(e),Not(sp),cp,hp,Not(ep)))"
   ]
  },
  {
   "cell_type": "markdown",
   "metadata": {},
   "source": [
    "# Verifying properties"
   ]
  },
  {
   "cell_type": "markdown",
   "metadata": {},
   "source": [
    "This model checker only supports LTL formulae $G p$ and $F p$\n",
    "- define a function `p(s)` which returns the z3 encoded formula of the property p\n",
    "- To check say $G p$, run `G(p)`"
   ]
  },
  {
   "cell_type": "markdown",
   "metadata": {},
   "source": [
    "### checking property $G(start \\implies (close \\lor error))$"
   ]
  },
  {
   "cell_type": "code",
   "execution_count": 6,
   "metadata": {},
   "outputs": [
    {
     "data": {
      "text/plain": [
       "'No Cex found till length 6'"
      ]
     },
     "execution_count": 6,
     "metadata": {},
     "output_type": "execute_result"
    }
   ],
   "source": [
    "def p(s):\n",
    "    start,close,heat,error=s.get_vars()\n",
    "    return Implies(start,Or(close,error))\n",
    "\n",
    "G(p)"
   ]
  },
  {
   "cell_type": "markdown",
   "metadata": {},
   "source": [
    "### checking property $G(\\lnot close \\lor \\lnot error)$"
   ]
  },
  {
   "cell_type": "code",
   "execution_count": 22,
   "metadata": {},
   "outputs": [
    {
     "data": {
      "text/plain": [
       "'Cex found of length 3. Property not True'"
      ]
     },
     "execution_count": 22,
     "metadata": {},
     "output_type": "execute_result"
    }
   ],
   "source": [
    "def p(s):\n",
    "    start,close,heat,error=s.get_vars()\n",
    "    return Or(Not(close),Not(error))\n",
    "\n",
    "G(p)"
   ]
  },
  {
   "cell_type": "markdown",
   "metadata": {},
   "source": [
    "### checking property $F(error)$"
   ]
  },
  {
   "cell_type": "code",
   "execution_count": 8,
   "metadata": {},
   "outputs": [
    {
     "data": {
      "text/plain": [
       "'Cex lasso path of length 2 found. Property not True'"
      ]
     },
     "execution_count": 8,
     "metadata": {},
     "output_type": "execute_result"
    }
   ],
   "source": [
    "def p(s):\n",
    "    start,close,heat,error=s.get_vars()\n",
    "    return error\n",
    "\n",
    "F(p)"
   ]
  },
  {
   "cell_type": "markdown",
   "metadata": {},
   "source": [
    "### checking property $F (close)$"
   ]
  },
  {
   "cell_type": "code",
   "execution_count": 9,
   "metadata": {},
   "outputs": [
    {
     "data": {
      "text/plain": [
       "'No Cex found till length 6'"
      ]
     },
     "execution_count": 9,
     "metadata": {},
     "output_type": "execute_result"
    }
   ],
   "source": [
    "def p(s):\n",
    "    start,close,heat,error=s.get_vars()\n",
    "    return close\n",
    "\n",
    "F(p)"
   ]
  },
  {
   "cell_type": "markdown",
   "metadata": {},
   "source": [
    "# checking property $F((\\lnot start \\implies close) \\land (start \\implies heat))$"
   ]
  },
  {
   "cell_type": "code",
   "execution_count": 10,
   "metadata": {},
   "outputs": [
    {
     "data": {
      "text/plain": [
       "'Cex lasso path of length 3 found. Property not True'"
      ]
     },
     "execution_count": 10,
     "metadata": {},
     "output_type": "execute_result"
    }
   ],
   "source": [
    "def p(s):\n",
    "    start,close,heat,error=s.get_vars()\n",
    "    return And(Implies(Not(start),close),Implies(start,heat))\n",
    "\n",
    "F(p)"
   ]
  },
  {
   "cell_type": "markdown",
   "metadata": {},
   "source": [
    "# Recurrance diameter"
   ]
  },
  {
   "cell_type": "markdown",
   "metadata": {},
   "source": [
    "Calculates the recurrance diameter of the Kripke structure formed by transition relation given above"
   ]
  },
  {
   "cell_type": "code",
   "execution_count": 11,
   "metadata": {},
   "outputs": [],
   "source": [
    "def rec_diam():\n",
    "    k=2\n",
    "    states=[s(0),s(1)]\n",
    "    while True:\n",
    "        solver=Solver()\n",
    "        states+=[s(k)]\n",
    "        initial=I(states[0])\n",
    "        Trans=And([T(states[i],states[i+1]) for i in range(k)])\n",
    "        loop=Not(Or([Equals(states[i],states[j]) for i in range(k+1) for j in range(i+1,k+1)]))\n",
    "        solver.add(And(initial,Trans,loop))\n",
    "        if solver.check()==unsat:\n",
    "            return f'recurrance diameter is {k-1}'\n",
    "        k+=1\n",
    "    \n",
    "        "
   ]
  },
  {
   "cell_type": "code",
   "execution_count": 12,
   "metadata": {},
   "outputs": [
    {
     "data": {
      "text/plain": [
       "'recurrance diameter is 6'"
      ]
     },
     "execution_count": 12,
     "metadata": {},
     "output_type": "execute_result"
    }
   ],
   "source": [
    "rec_diam()"
   ]
  },
  {
   "cell_type": "markdown",
   "metadata": {},
   "source": [
    "# k induction"
   ]
  },
  {
   "cell_type": "markdown",
   "metadata": {},
   "source": [
    "Complete k induction procedure to check property $G p$.\n",
    "- Just as before, define `p(s)`\n",
    "- `k_induct(p)` will verify the property $G p$"
   ]
  },
  {
   "cell_type": "code",
   "execution_count": 36,
   "metadata": {},
   "outputs": [],
   "source": [
    "def k_induct(p):\n",
    "    states=[s(0)]\n",
    "    init_solver=Solver()\n",
    "    initial=I(states[0])\n",
    "    init_solver.add(And(initial,Not(p(states[0]))))\n",
    "    if init_solver.check()==sat:\n",
    "        return 'Cex found. Property not true'\n",
    "    k=1\n",
    "    while True:\n",
    "        states+=[s(k)]\n",
    "        Notps=Or([Not(p(state)) for state in states])\n",
    "        Ps=And([p(states[i]) for i in range(k)])\n",
    "        Trans=And([T(states[i],states[i+1]) for i in range(k)])\n",
    "        Notp=Not(p(states[-1]))\n",
    "        notequal=Not(Or([Equals(states[i],states[j]) for i in range(k+1) for j in range(i+1,k+1)]))\n",
    "        base_solver=Solver()\n",
    "        base_solver.add(Notps,initial,Trans)\n",
    "        if base_solver.check()==sat:\n",
    "            return 'Cex found. Property not true'\n",
    "        induct_solver=Solver()\n",
    "        induct_solver.add(And(Ps,Trans,Notp,notequal))\n",
    "        if induct_solver.check()==unsat:\n",
    "            return 'Property is True'\n",
    "        k=k+1\n",
    "        \n",
    "        "
   ]
  },
  {
   "cell_type": "code",
   "execution_count": 37,
   "metadata": {},
   "outputs": [
    {
     "data": {
      "text/plain": [
       "'Property is True'"
      ]
     },
     "execution_count": 37,
     "metadata": {},
     "output_type": "execute_result"
    }
   ],
   "source": [
    "def p(s):\n",
    "    start,close,heat,error=s.get_vars()\n",
    "    return Implies(start,Or(close,error))\n",
    "\n",
    "k_induct(p)"
   ]
  },
  {
   "cell_type": "code",
   "execution_count": 38,
   "metadata": {},
   "outputs": [
    {
     "data": {
      "text/plain": [
       "'Cex found. Property not true'"
      ]
     },
     "execution_count": 38,
     "metadata": {},
     "output_type": "execute_result"
    }
   ],
   "source": [
    "def p(s):\n",
    "    start,close,heat,error=s.get_vars()\n",
    "    return Or(Not(close),Not(error))\n",
    "\n",
    "k_induct(p)"
   ]
  },
  {
   "cell_type": "code",
   "execution_count": 39,
   "metadata": {},
   "outputs": [
    {
     "data": {
      "text/plain": [
       "'Property is True'"
      ]
     },
     "execution_count": 39,
     "metadata": {},
     "output_type": "execute_result"
    }
   ],
   "source": [
    "def p(s):\n",
    "    start,close,heat,error=s.get_vars()\n",
    "    return Implies(And(close,start),Or(Not(heat),Not(error)))\n",
    "\n",
    "k_induct(p)"
   ]
  },
  {
   "cell_type": "code",
   "execution_count": null,
   "metadata": {},
   "outputs": [],
   "source": []
  }
 ],
 "metadata": {
  "kernelspec": {
   "display_name": "Python 3",
   "language": "python",
   "name": "python3"
  },
  "language_info": {
   "codemirror_mode": {
    "name": "ipython",
    "version": 3
   },
   "file_extension": ".py",
   "mimetype": "text/x-python",
   "name": "python",
   "nbconvert_exporter": "python",
   "pygments_lexer": "ipython3",
   "version": "3.7.3"
  }
 },
 "nbformat": 4,
 "nbformat_minor": 2
}
