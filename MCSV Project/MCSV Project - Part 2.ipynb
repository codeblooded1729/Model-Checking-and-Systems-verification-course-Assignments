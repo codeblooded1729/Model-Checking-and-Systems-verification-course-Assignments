{
 "cells": [
  {
   "cell_type": "markdown",
   "metadata": {
    "id": "LofzX2-Xagjk"
   },
   "source": [
    "# MCSV Assignment 3\n",
    "### Arghadeep Ghosh and Kapil Pause\n",
    "\n",
    "This notebook contains the implementation of BMC on general LTL formulas using z3 SAT Solver, as described in the paper \"Symbolic Model Checking without BDDs\" by Armin Biere, Alessandro Cimatti, Edmund Clarke, and Yunshan Zhu. \n",
    "\n"
   ]
  },
  {
   "cell_type": "markdown",
   "metadata": {
    "id": "7omToHW5hUTc"
   },
   "source": [
    "## Installing dependencies and Importing Libraries\n",
    "\n",
    "The dependencies for this notebook are:\n",
    "*  z3 SMT Solver:<br> \n",
    "To perform the BMC SAT solving tasks. <br>\n",
    "```pip install z3-solver```\n",
    "*   ply <br>\n",
    "To build our parser to parse LTL Formulas <br>\n",
    "```pip install ply```\n",
    "*  The following python scripts parse the LTL formulas and are therefore necessary to run the program.\n",
    "1.   ply_parser.py\n",
    "2.   ply_lexer.py\n",
    "3.   formulas.py\n",
    "\n",
    "\n"
   ]
  },
  {
   "cell_type": "code",
   "execution_count": null,
   "metadata": {
    "colab": {
     "base_uri": "https://localhost:8080/"
    },
    "id": "Y5DJZRJKdYKV",
    "outputId": "1fd45a52-6379-4830-aac2-f3c9adfb2dc4"
   },
   "outputs": [
    {
     "name": "stdout",
     "output_type": "stream",
     "text": [
      "Collecting z3-solver\n",
      "\u001b[?25l  Downloading https://files.pythonhosted.org/packages/6d/51/86d4d708593b77dd43e1154f25b107d9d9a3300da49759c88254192a0a04/z3_solver-4.8.9.0-py2.py3-none-manylinux1_x86_64.whl (30.5MB)\n",
      "\u001b[K     |████████████████████████████████| 30.5MB 159kB/s \n",
      "\u001b[?25hInstalling collected packages: z3-solver\n",
      "Successfully installed z3-solver-4.8.9.0\n"
     ]
    }
   ],
   "source": [
    "pip install z3-solver"
   ]
  },
  {
   "cell_type": "code",
   "execution_count": null,
   "metadata": {
    "colab": {
     "base_uri": "https://localhost:8080/"
    },
    "id": "ey5TnFkT_jtd",
    "outputId": "0fbaae0d-2268-4e61-869c-c4908c87dec5"
   },
   "outputs": [
    {
     "name": "stdout",
     "output_type": "stream",
     "text": [
      "Requirement already satisfied: ply in /usr/local/lib/python3.6/dist-packages (3.11)\n"
     ]
    }
   ],
   "source": [
    "pip install ply"
   ]
  },
  {
   "cell_type": "code",
   "execution_count": null,
   "metadata": {
    "colab": {
     "base_uri": "https://localhost:8080/"
    },
    "id": "DVrhoHcXYT-N",
    "outputId": "21868610-ed55-43a2-b84b-2389ed69308a"
   },
   "outputs": [
    {
     "name": "stderr",
     "output_type": "stream",
     "text": [
      "Generating LALR tables\n"
     ]
    }
   ],
   "source": [
    "from z3 import *\n",
    "from ply_parser import *"
   ]
  },
  {
   "cell_type": "markdown",
   "metadata": {
    "id": "ifUhkH5Aib08"
   },
   "source": [
    "## LTL Solver\n",
    "\n",
    "The following section contains the Kripke class to represent kripke structures and the implementation of the BMC model checking algorithm. \n",
    "\n",
    "####To define a Kripke Structure:\n",
    "The constructor for the Kripke class accepts three arguments.\n",
    "*   ```states```: Boolean variables describing the state space of the kripke structure, represented as a list of characters.<br>\n",
    "```states = ['s', 'c', 'h', 'e']``` \n",
    "*  ```init```: The initial state described as a dictionary using ```states``` as its keys. <br>\n",
    "```init = {'s': False, 'c' = False, 'h' = False, 'e' = False}```\n",
    "*  ```Trans```: The transition relation, defined as a python function taking as argument two lists of characters representing current and next state. \n"
   ]
  },
  {
   "cell_type": "code",
   "execution_count": null,
   "metadata": {
    "id": "qCc6OcKbM2Bx"
   },
   "outputs": [],
   "source": [
    "class Kripke:\n",
    "    def __init__(self, states, init, Trans):\n",
    "        self.states = states\n",
    "        self.Trans = Trans\n",
    "        self.init = init\n",
    "\n",
    "    def state(self, n = None):\n",
    "        if n == None:\n",
    "            return [Bool(var) for var in self.states]\n",
    "        return [Bool(var + str(n)) for var in self.states]\n",
    "    \n",
    "    def initConstraint(self, state):\n",
    "        return And([state[i] == self.init[self.states[i]] for i in range(len(self.states))])\n",
    "\n",
    "    def pathConstraint(self, pathStates):\n",
    "        constraint = []\n",
    "        for i in range(len(pathStates)-1):\n",
    "            constraint += [self.Trans(pathStates[i], pathStates[i+1])]\n",
    "        return And(self.initConstraint(pathStates[0]), And(constraint))\n",
    "\n",
    "    def LTLConstraint(self, i, k, formula, pathStates):\n",
    "        if formula == True:\n",
    "            return True\n",
    "        if formula == False:\n",
    "            return False\n",
    "        if list(formula.keys())[0] == 'p':\n",
    "            return formula['p'](pathStates[i])\n",
    "        elif list(formula.keys())[0] == '!p':\n",
    "            return Not(formula['!p'](pathStates[i]))\n",
    "        elif list(formula.keys())[0] == 'OR':\n",
    "            return Or(self.LTLConstraint(i, k, formula['OR'][0], pathStates), self.LTLConstraint(i, k, formula['OR'][1], pathStates))\n",
    "        elif list(formula.keys())[0] == 'AND':\n",
    "            return And(self.LTLConstraint(i, k, formula['AND'][0], pathStates), self.LTLConstraint(i, k, formula['AND'][1], pathStates))\n",
    "        elif list(formula.keys())[0] == 'G':\n",
    "            return False\n",
    "        elif list(formula.keys())[0] == 'F':\n",
    "            return Or([self.LTLConstraint(j, k, formula['F'], pathStates) for j in range(i, k+1)])\n",
    "        elif list(formula.keys())[0] == 'X':\n",
    "            if i < k:\n",
    "                return self.LTLConstraint(i+1, k, formula['X'], pathStates)\n",
    "            else:\n",
    "                return False\n",
    "        elif list(formula.keys())[0] == 'U':\n",
    "            return Or([And(self.LTLConstraint(j, k, formula['U'][1], pathStates), And([self.LTLConstraint(n, k, formula['U'][0], pathStates) for n in range(i, j)])) for j in range(i, k+1)])\n",
    "        elif list(formula.keys())[0] == 'R':\n",
    "            return Or([And(self.LTLConstraint(j, k, formula['U'][0], pathStates), And([self.LTLConstraint(n, k, formula['U'][1], pathStates) for n in range(i, j+1)])) for j in range(i, k+1)])\n",
    "\n",
    "    def LTLConstraintLoop(self, i, k, l, formula, pathStates):\n",
    "        if formula == True:\n",
    "            return True\n",
    "        if formula == False:\n",
    "            return False\n",
    "        if list(formula.keys())[0] == 'p':\n",
    "            return formula['p'](pathStates[i])\n",
    "        elif list(formula.keys())[0] == '!p':\n",
    "            return Not(formula['!p'](pathStates[i]))\n",
    "        elif list(formula.keys())[0] == 'OR':\n",
    "            return Or(self.LTLConstraintLoop(i, k, l, formula['OR'][0], pathStates), self.LTLConstraintLoop(i, k, l, formula['OR'][1], pathStates))\n",
    "        elif list(formula.keys())[0] == 'AND':\n",
    "            return And(self.LTLConstraintLoop(i, k, l, formula['AND'][0], pathStates), self.LTLConstraintLoop(i, k, l, formula['AND'][1], pathStates))\n",
    "        elif list(formula.keys())[0] == 'G':\n",
    "            return And([self.LTLConstraintLoop(j, k, l, formula['G'], pathStates) for j in range(min(i, l), k+1)])\n",
    "        elif list(formula.keys())[0] == 'F':\n",
    "            return Or([self.LTLConstraintLoop(j, k, l, formula['F'], pathStates) for j in range(min(i, l), k+1)])\n",
    "        elif list(formula.keys())[0] == 'X':\n",
    "            if i < k-1:\n",
    "                return self.LTLConstraintLoop(i+1, k, l, formula['X'], pathStates)\n",
    "            elif i == k-1:\n",
    "                return self.LTLConstraintLoop(l, k, l, formula['X'], pathStates)\n",
    "        elif list(formula.keys())[0] == 'U':\n",
    "            constraint1 = Or([And(self.LTLConstraintLoop(j, k, l, formula['U'][1], pathStates), And([self.LTLConstraintLoop(n, k, l, formula['U'][0], pathStates) for n in range(i, j)])) for j in range(i, k+1)])\n",
    "            constraint2 = Or([And(self.LTLConstraintLoop(j, k, l, formula['U'][1], pathStates), And([self.LTLConstraintLoop(n, k, l, formula['U'][0], pathStates) for n in range(i, k+1)]), And([self.LTLConstraintLoop(n, k, l, formula['U'][0], pathStates) for n in range(l, j)])) for j in range(l, i)])\n",
    "            return Or(constraint1, constraint2)\n",
    "        elif list(formula.keys())[0] == 'R':\n",
    "            constraint1 = And([self.LTLConstraintLoop(j, k, l, formula['R'][1], pathStates) for j in range(min(i, l), k+1)])\n",
    "            constraint2 = Or([And(self.LTLConstraintLoop(j, k, l, formula['U'][0], pathStates), And([self.LTLConstraintLoop(n, k, l, formula['U'][1], pathStates) for n in range(i, j+1)])) for j in range(i, k+1)])\n",
    "            constraint3 = Or([And(self.LTLConstraintLoop(j, k, l, formula['U'][0], pathStates), And([self.LTLConstraintLoop(n, k, l, formula['U'][1], pathStates) for n in range(i, k+1)]), And([self.LTLConstraintLoop(n, k, l, formula['U'][1], pathStates) for n in range(l, j)])) for j in range(l, i)])\n",
    "            return Or(constraint1, constraint2, constraint3)\n",
    "\n",
    "    def Loop(self, l, k, pathStates):\n",
    "        return self.Trans(pathStates[k], pathStates[l])\n",
    "\n",
    "    def KmodelCheck(self, k, formula):\n",
    "        pathStates = []\n",
    "        for j in range(k+1):\n",
    "            pathStates += [self.state(j)]\n",
    "        pathConstraint = self.pathConstraint(pathStates)\n",
    "        KLoopConstraint = Or([self.Loop(l, k, pathStates) for l in range(k+1)])\n",
    "        LTLConstraint = And(Not(KLoopConstraint), self.LTLConstraint(0, k, formula, pathStates))\n",
    "        LTLConstraintLoop = Or([And(self.Loop(l, k, pathStates), self.LTLConstraintLoop(0, k, l, formula, pathStates)) for l in range(k+1)])\n",
    "        return And(pathConstraint, Or(LTLConstraint, LTLConstraintLoop)), pathStates\n",
    "\n",
    "    def LTLsize(self, formula):\n",
    "        if formula == True:\n",
    "            return 1\n",
    "        if formula == False:\n",
    "            return 1\n",
    "        if list(formula.keys())[0] == 'p':\n",
    "            return 1\n",
    "        elif list(formula.keys())[0] == '!p':\n",
    "            return 2\n",
    "        elif list(formula.keys())[0] == 'OR':\n",
    "            return self.LTLsize(formula['OR'][0]) + self.LTLsize(formula['OR'][1]) + 1\n",
    "        elif list(formula.keys())[0] == 'AND':\n",
    "            return self.LTLsize(formula['AND'][0]) + self.LTLsize(formula['AND'][1]) + 1\n",
    "        elif list(formula.keys())[0] == 'G':\n",
    "            return self.LTLsize(formula['G']) + 1 \n",
    "        elif list(formula.keys())[0] == 'F':\n",
    "            return self.LTLsize(formula['F']) + 1\n",
    "        elif list(formula.keys())[0] == 'X':\n",
    "            return self.LTLsize(formula['X']) + 1\n",
    "        elif list(formula.keys())[0] == 'U':\n",
    "            return self.LTLsize(formula['U'][0]) + self.LTLsize(formula['U'][1]) + 1\n",
    "        elif list(formula.keys())[0] == 'R':\n",
    "            return self.LTLsize(formula['R'][0]) + self.LTLsize(formula['R'][1]) + 1\n",
    "    \n",
    "    def recDiam(self):\n",
    "        k = 0\n",
    "        while True:\n",
    "            solver = z3.Solver()\n",
    "            pathStates = []\n",
    "            for j in range(k+1):\n",
    "                pathStates += [self.state(j)] \n",
    "            pathConstraint = self.pathConstraint(pathStates)\n",
    "            loopConstraint = Not(Or([ And([x == y for x, y in zip(pathStates[i],pathStates[j])]) for i in range(k+1) for j in range(i+1,k+1)]))\n",
    "            solver.add(And(pathConstraint, loopConstraint))\n",
    "            if solver.check() == unsat:\n",
    "                return k-1\n",
    "            k+=1\n",
    "   \n",
    "    def modelCheck(self, formula):\n",
    "        formula = parser.parse(formula)\n",
    "        formula = parseFormula(formula)\n",
    "        if list(formula.keys())[0] == 'G' and list(formula['G'].keys())[0] == 'F':\n",
    "            LTLbound = self.recDiam()\n",
    "        elif list(formula.keys())[0] == 'F' and list(formula['F'].keys())[0] == 'G':\n",
    "            LTLbound = self.recDiam()\n",
    "        else:\n",
    "            LTLbound = (2 ** len(self.states)) * (2 ** self.LTLsize(formula))\n",
    "        for k in range(LTLbound):\n",
    "            print('Step: ' + str(k+1) + '/' + str(LTLbound))\n",
    "            solver = z3.Solver()\n",
    "            solver.add(self.KmodelCheck(k, formula)[0])\n",
    "            pathStates = self.KmodelCheck(k, formula)[1]\n",
    "            if solver.check() == sat:\n",
    "                model = solver.model()\n",
    "                for i in range(k):\n",
    "                    print(i)\n",
    "                    ps = '('\n",
    "                    for j in range(len(self.states)):\n",
    "                        ps += f'{pathStates[i][j]} = {model[pathStates[i][j]]}, '\n",
    "                    ps = ps[:-2] + ') --> '\n",
    "                    print(ps, end = '') \n",
    "                ps = '('             \n",
    "                for j in range(len(self.states)):\n",
    "                    ps += f'{pathStates[-1][j]} = {model[pathStates[-1][j]]}, '\n",
    "                ps = ps[:-2] + ')'\n",
    "                print(ps)\n",
    "                return 'LTL SAT'\n",
    "        return 'LTL UNSAT'\n"
   ]
  },
  {
   "cell_type": "code",
   "execution_count": null,
   "metadata": {
    "id": "wn3wxAtS17KL"
   },
   "outputs": [],
   "source": [
    "def parseFormula(formula):\n",
    "    if formula.type == 'PROP':\n",
    "        return {'p': globals()[formula.child]}\n",
    "    elif formula.type == 'NOT':\n",
    "        if formula.child.type == 'PROP':\n",
    "            return {'!p': globals()[formula.child.child]}\n",
    "        else:\n",
    "            print('Formula not in Negation Normal Form')\n",
    "    elif formula.type == 'LITERAL':\n",
    "        if formula.child == 'tru':\n",
    "            return True\n",
    "        if formula.child == 'fls':\n",
    "            return False\n",
    "    elif formula.type in ['OR', 'AND', 'U', 'R']:\n",
    "        return {formula.type: (parseFormula(formula.left), parseFormula(formula.right))}\n",
    "    elif formula.type in ['X', 'F', 'G']:\n",
    "        return {formula.type: parseFormula(formula.child)}"
   ]
  },
  {
   "cell_type": "markdown",
   "metadata": {
    "id": "j4fuRJneivlF"
   },
   "source": [
    "## Examples\n",
    "\n",
    "We have built the Microwave Kripke structure as decribed in the coursebook.\n",
    "\n"
   ]
  },
  {
   "cell_type": "code",
   "execution_count": null,
   "metadata": {
    "id": "Bnk2MsQqgP2V"
   },
   "outputs": [],
   "source": [
    "def Trans(curr, next):\n",
    "    return Or(\n",
    "       And(Not(curr[0]), Not(curr[1]), Not(curr[2]), Not(curr[3]), next[0], Not(next[1]), Not(next[2]), next[3]),\n",
    "       And(Not(curr[0]), Not(curr[1]), Not(curr[2]), Not(curr[3]), Not(next[0]), next[1], Not(next[2]), Not(next[3])),\n",
    "       And(Not(curr[0]), curr[1], Not(curr[2]), Not(curr[3]), Not(next[0]), Not(next[1]), Not(next[2]), Not(next[3])),\n",
    "       And(Not(curr[0]), curr[1], curr[2], Not(curr[3]), Not(next[0]), Not(next[1]), Not(next[2]), Not(next[3])),\n",
    "       And(Not(curr[0]), curr[1], curr[2], Not(curr[3]), Not(next[0]), next[1], next[2], Not(next[3])),\n",
    "       And(Not(curr[0]), curr[1], curr[2], Not(curr[3]), Not(next[0]), next[1], Not(next[2]), Not(next[3])),\n",
    "       And(curr[0], Not(curr[1]), Not(curr[2]), curr[3], next[0], next[1], Not(next[2]), next[3]),\n",
    "       And(curr[0], curr[1], Not(curr[2]), curr[3], next[0], Not(next[1]), Not(next[2]), next[3]),\n",
    "       And(curr[0], curr[1], Not(curr[2]), curr[3], Not(next[0]), next[1], Not(next[2]), Not(next[3])),\n",
    "       And(Not(curr[0]), curr[1], Not(curr[2]), Not(curr[3]), next[0], next[1], Not(next[2]), Not(next[3])),\n",
    "       And(curr[0], curr[1], Not(curr[2]), Not(curr[3]), next[0], next[1], next[2], Not(next[3])),\n",
    "       And(curr[0], curr[1], curr[2], Not(curr[3]), Not(next[0]), next[1], next[2], Not(next[3])))\n",
    "\n",
    "def f(state): # Atomic formulas are represented as python functions\n",
    "    return state[0]\n",
    "def g(state):\n",
    "    return state[1]"
   ]
  },
  {
   "cell_type": "code",
   "execution_count": null,
   "metadata": {
    "colab": {
     "base_uri": "https://localhost:8080/"
    },
    "id": "0eWV7tykhtEc",
    "outputId": "c8653a1e-2a47-4892-e0ac-9892fede7091"
   },
   "outputs": [
    {
     "name": "stdout",
     "output_type": "stream",
     "text": [
      "Step: 1/6\n",
      "Step: 2/6\n",
      "Step: 3/6\n",
      "Step: 4/6\n",
      "Step: 5/6\n",
      "Step: 6/6\n",
      "LTL UNSAT\n"
     ]
    }
   ],
   "source": [
    "k = Kripke(['s', 'c', 'h', 'e'], {'s': False, 'c': False, 'h': False, 'e': False}, Trans)\n",
    "\n",
    "print(k.modelCheck(\"F (G ((!f) . (f)))\"))"
   ]
  }
 ],
 "metadata": {
  "colab": {
   "collapsed_sections": [],
   "name": "Untitled4.ipynb",
   "provenance": [],
   "toc_visible": true
  },
  "kernelspec": {
   "display_name": "Python 3",
   "language": "python",
   "name": "python3"
  },
  "language_info": {
   "codemirror_mode": {
    "name": "ipython",
    "version": 3
   },
   "file_extension": ".py",
   "mimetype": "text/x-python",
   "name": "python",
   "nbconvert_exporter": "python",
   "pygments_lexer": "ipython3",
   "version": "3.7.3"
  }
 },
 "nbformat": 4,
 "nbformat_minor": 1
}
